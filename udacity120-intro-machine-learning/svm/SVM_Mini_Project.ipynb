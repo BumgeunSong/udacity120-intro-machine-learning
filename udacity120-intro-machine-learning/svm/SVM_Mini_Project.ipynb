{
 "cells": [
  {
   "cell_type": "code",
   "execution_count": 1,
   "metadata": {
    "collapsed": false
   },
   "outputs": [
    {
     "name": "stdout",
     "output_type": "stream",
     "text": [
      "no. of Chris training emails: 7936\n",
      "no. of Sara training emails: 7884\n"
     ]
    }
   ],
   "source": [
    "\n",
    "\"\"\" \n",
    "    This is the code to accompany the Lesson 2 (SVM) mini-project.\n",
    "\n",
    "    Use a SVM to identify emails from the Enron corpus by their authors:    \n",
    "    Sara has label 0\n",
    "    Chris has label 1\n",
    "\"\"\"\n",
    "    \n",
    "import sys\n",
    "from time import time\n",
    "sys.path.append(\"../tools/\")\n",
    "from email_preprocess import preprocess\n",
    "\n",
    "\n",
    "### features_train and features_test are the features for the training\n",
    "### and testing datasets, respectively\n",
    "### labels_train and labels_test are the corresponding item labels\n",
    "features_train, features_test, labels_train, labels_test = preprocess()\n",
    "\n",
    "\n",
    "\n",
    "\n",
    "#########################################################\n",
    "### your code goes here ###\n",
    "\n",
    "\n",
    "\n",
    "\n",
    "#########################################################\n",
    "\n"
   ]
  },
  {
   "cell_type": "code",
   "execution_count": 2,
   "metadata": {
    "collapsed": false
   },
   "outputs": [
    {
     "data": {
      "text/plain": [
       "SVC(C=1.0, cache_size=200, class_weight=None, coef0=0.0, degree=3, gamma=0.0,\n",
       "  kernel='linear', max_iter=-1, probability=False, random_state=None,\n",
       "  shrinking=True, tol=0.001, verbose=False)"
      ]
     },
     "execution_count": 2,
     "metadata": {},
     "output_type": "execute_result"
    }
   ],
   "source": [
    "\n",
    "from sklearn.svm import SVC\n",
    "# Let's create our classifier (Here we create linear SVC)\n",
    "clf = SVC(kernel = 'linear')\n",
    "\n",
    "#Train our classifier\n",
    "clf.fit(features_train, labels_train)\n",
    "\n"
   ]
  },
  {
   "cell_type": "code",
   "execution_count": 3,
   "metadata": {
    "collapsed": false
   },
   "outputs": [],
   "source": [
    "predicted = clf.predict(features_test)"
   ]
  },
  {
   "cell_type": "code",
   "execution_count": 4,
   "metadata": {
    "collapsed": false
   },
   "outputs": [
    {
     "name": "stdout",
     "output_type": "stream",
     "text": [
      "Accuracy score is: 0.984072810011\n"
     ]
    }
   ],
   "source": [
    "from sklearn.metrics import accuracy_score\n",
    "print 'Accuracy score is:',accuracy_score(predicted, labels_test)"
   ]
  },
  {
   "cell_type": "markdown",
   "metadata": {},
   "source": [
    "### One way to speed up an algorithm is to train it on a smaller training dataset. The tradeoff is that the accuracy almost always goes down when you do this. Let’s explore this more concretely: add in the following two lines immediately before training your classifier. "
   ]
  },
  {
   "cell_type": "code",
   "execution_count": 5,
   "metadata": {
    "collapsed": false
   },
   "outputs": [
    {
     "name": "stdout",
     "output_type": "stream",
     "text": [
      "Accuracy score for a smaller training set is: 0.884527872582\n"
     ]
    }
   ],
   "source": [
    "# Since SVM is very slow let's try to train on a smaller data set (100 times smaller). \n",
    "# I name this classifier as cfl_bad (worse classifier)\n",
    "features_train_small = features_train[:len(features_train)/100] \n",
    "labels_train_small = labels_train[:len(labels_train)/100] \n",
    "\n",
    "# Let's create our classifier (Here we create linear SVC)\n",
    "clf_bad = SVC(kernel = 'linear')\n",
    "\n",
    "#Train our classifier\n",
    "clf_bad.fit(features_train_small, labels_train_small)\n",
    "\n",
    "# Let's predict with bad classifier\n",
    "predicted_bad = clf_bad.predict(features_test)\n",
    "\n",
    "# Let's see the accuracy with this ill trained classifier\n",
    "print 'Accuracy score for a smaller training set is:', accuracy_score(predicted_bad, labels_test)"
   ]
  },
  {
   "cell_type": "markdown",
   "metadata": {},
   "source": [
    "### Keep the training set slice code from the last quiz, so that you are still training on only 1% of the full training set. Change the kernel of your SVM to “rbf”. What’s the accuracy now, with this more complex kernel?"
   ]
  },
  {
   "cell_type": "code",
   "execution_count": 6,
   "metadata": {
    "collapsed": false
   },
   "outputs": [
    {
     "name": "stdout",
     "output_type": "stream",
     "text": [
      "Accuracy score for rbf kernel is: 0.616040955631\n"
     ]
    }
   ],
   "source": [
    "features_train_small = features_train[:len(features_train)/100] \n",
    "labels_train_small = labels_train[:len(labels_train)/100] \n",
    "\n",
    "# Let's create our new rbf classifier \n",
    "clf_rbf = SVC(kernel = 'rbf')\n",
    "\n",
    "#Train our classifier\n",
    "clf_rbf.fit(features_train_small, labels_train_small)\n",
    "\n",
    "# Let's predict with bad classifier\n",
    "predicted_rbf = clf_rbf.predict(features_test)\n",
    "\n",
    "# Let's see the accuracy with this ill trained classifier\n",
    "print 'Accuracy score for rbf kernel is:', accuracy_score(predicted_rbf, labels_test)"
   ]
  },
  {
   "cell_type": "markdown",
   "metadata": {},
   "source": [
    "### Keep the training set size and rbf kernel from the last quiz, but try several values of C (say, 10.0, 100., 1000., and 10000.). Which one gives the best accuracy?"
   ]
  },
  {
   "cell_type": "code",
   "execution_count": 10,
   "metadata": {
    "collapsed": false
   },
   "outputs": [
    {
     "name": "stdout",
     "output_type": "stream",
     "text": [
      "Accuracy score for rbf kernel with C= 10 is: 0.616040955631\n",
      "Accuracy score for rbf kernel with C= 100 is: 0.616040955631\n",
      "Accuracy score for rbf kernel with C= 1000 is: 0.821387940842\n",
      "Accuracy score for rbf kernel with C= 10000 is: 0.892491467577\n"
     ]
    }
   ],
   "source": [
    "# Let's create our new rbf classifier with different C values \n",
    "clf_c10 = SVC(kernel = 'rbf',C=10.0)\n",
    "clf_c100 = SVC(kernel = 'rbf',C=100.0)\n",
    "clf_c1000 = SVC(kernel = 'rbf',C=1000.0)\n",
    "clf_c10000 = SVC(kernel = 'rbf',C=10000.0)\n",
    "\n",
    "#Train our classifier\n",
    "clf_c10.fit(features_train_small, labels_train_small)\n",
    "clf_c100.fit(features_train_small, labels_train_small)\n",
    "clf_c1000.fit(features_train_small, labels_train_small)\n",
    "clf_c10000.fit(features_train_small, labels_train_small)\n",
    "\n",
    "# Let's predict with rbf with different C values \n",
    "predicted_c10 = clf_c10.predict(features_test)\n",
    "predicted_c100 = clf_c100.predict(features_test)\n",
    "predicted_c1000 = clf_c1000.predict(features_test)\n",
    "predicted_c10000 = clf_c10000.predict(features_test)\n",
    "\n",
    "# Let's see the accuracy with this ill trained classifier\n",
    "print 'Accuracy score for rbf kernel with C= 10 is:', accuracy_score(predicted_c10, labels_test)\n",
    "print 'Accuracy score for rbf kernel with C= 100 is:', accuracy_score(predicted_c100, labels_test)\n",
    "print 'Accuracy score for rbf kernel with C= 1000 is:', accuracy_score(predicted_c1000, labels_test)\n",
    "print 'Accuracy score for rbf kernel with C= 10000 is:', accuracy_score(predicted_c10000, labels_test)\n",
    "\n"
   ]
  },
  {
   "cell_type": "markdown",
   "metadata": {},
   "source": [
    "### Now that you’ve optimized C for the RBF kernel, go back to using the full training set. In general, having a larger training set will improve the performance of your algorithm, so (by tuning C and training on a large dataset) we should get a fairly optimized result. What is the accuracy of the optimized SVM?"
   ]
  },
  {
   "cell_type": "code",
   "execution_count": 13,
   "metadata": {
    "collapsed": false
   },
   "outputs": [
    {
     "name": "stdout",
     "output_type": "stream",
     "text": [
      "no. of Chris training emails: 7936\n",
      "no. of Sara training emails: 7884\n",
      "Accuracy score for rbf kernel with C= 10000 is: 0.990898748578\n"
     ]
    }
   ],
   "source": [
    "features_train, features_test, labels_train, labels_test = preprocess()\n",
    "\n",
    "# Create classifier\n",
    "clf_c10000_full = SVC(kernel = 'rbf',C=10000.0)\n",
    "\n",
    "# Train it\n",
    "clf_c10000_full.fit(features_train, labels_train)\n",
    "\n",
    "# Predict for test data\n",
    "predicted_c10000_full = clf_c10000_full.predict(features_test)\n",
    "\n",
    "# Measure the accuracy for original data set \n",
    "print 'Accuracy score for rbf kernel with C= 10000 is:', accuracy_score(predicted_c10000_full, labels_test)"
   ]
  },
  {
   "cell_type": "markdown",
   "metadata": {},
   "source": [
    "### What class does your SVM (0 or 1, corresponding to Sara and Chris respectively) predict for element 10 of the test set? The 26th? The 50th? (Use the RBF kernel, C=10000, and 1% of the training set. Normally you'd get the best results using the full training set, but we found that using 1% sped up the computation considerably and did not change our results--so feel free to use that shortcut here.)\n",
    "\n",
    "### And just to be clear, the data point numbers that we give here (10, 26, 50) assume a zero-indexed list. So the correct answer for element #100 would be found using something like answer=predictions[100]"
   ]
  },
  {
   "cell_type": "code",
   "execution_count": 12,
   "metadata": {
    "collapsed": false
   },
   "outputs": [
    {
     "name": "stdout",
     "output_type": "stream",
     "text": [
      "Predicted for 10th element: 1\n",
      "Predicted for 26th element: 0\n",
      "Predicted for 50th element: 1\n"
     ]
    }
   ],
   "source": [
    "print \"Predicted for 10th element:\", predicted_c10000[10]\n",
    "print \"Predicted for 26th element:\", predicted_c10000[26]\n",
    "print \"Predicted for 50th element:\", predicted_c10000[50]"
   ]
  },
  {
   "cell_type": "markdown",
   "metadata": {},
   "source": [
    "### There are over 1700 test events--how many are predicted to be in the “Chris” (1) class? (Use the RBF kernel, C=10000., and the full training set.)"
   ]
  },
  {
   "cell_type": "code",
   "execution_count": 15,
   "metadata": {
    "collapsed": false
   },
   "outputs": [
    {
     "data": {
      "text/plain": [
       "877"
      ]
     },
     "execution_count": 15,
     "metadata": {},
     "output_type": "execute_result"
    }
   ],
   "source": [
    "sum(predicted_c10000_full)"
   ]
  }
 ],
 "metadata": {
  "kernelspec": {
   "display_name": "Python 2",
   "language": "python",
   "name": "python2"
  },
  "language_info": {
   "codemirror_mode": {
    "name": "ipython",
    "version": 2
   },
   "file_extension": ".py",
   "mimetype": "text/x-python",
   "name": "python",
   "nbconvert_exporter": "python",
   "pygments_lexer": "ipython2",
   "version": "2.7.10"
  }
 },
 "nbformat": 4,
 "nbformat_minor": 0
}
