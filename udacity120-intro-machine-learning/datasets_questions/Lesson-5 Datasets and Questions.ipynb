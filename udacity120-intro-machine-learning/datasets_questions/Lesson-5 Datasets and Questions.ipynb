{
 "cells": [
  {
   "cell_type": "markdown",
   "metadata": {},
   "source": [
    "### The Enron fraud is a big, messy and totally fascinating story about corporate malfeasance of nearly every imaginable type. The Enron email and financial datasets are also big, messy treasure troves of information, which become much more useful once you know your way around them a bit. We’ve combined the email and finance data into a single dataset, which you’ll explore in this mini-project."
   ]
  },
  {
   "cell_type": "markdown",
   "metadata": {},
   "source": [
    "\n",
    "The aggregated Enron email + financial dataset is stored in a dictionary, where each key in the dictionary is a person’s name and the value is a dictionary containing all the features of that person.\n",
    "The email + finance (E+F) data dictionary is stored as a pickle file, which is a handy way to store and load python objects directly. Use *datasets_questions/explore_enron_data.py* to load the dataset.\n",
    "\n",
    "** How many data points (people) are in the dataset? **\n"
   ]
  },
  {
   "cell_type": "code",
   "execution_count": 1,
   "metadata": {
    "collapsed": true
   },
   "outputs": [],
   "source": [
    "\n",
    "\"\"\" \n",
    "    Starter code for exploring the Enron dataset (emails + finances);\n",
    "    loads up the dataset (pickled dict of dicts).\n",
    "\n",
    "    The dataset has the form:\n",
    "    enron_data[\"LASTNAME FIRSTNAME MIDDLEINITIAL\"] = { features_dict }\n",
    "\n",
    "    {features_dict} is a dictionary of features associated with that person.\n",
    "    You should explore features_dict as part of the mini-project,\n",
    "    but here's an example to get you started:\n",
    "\n",
    "    enron_data[\"SKILLING JEFFREY K\"][\"bonus\"] = 5600000\n",
    "    \n",
    "\"\"\"\n",
    "\n",
    "import pickle\n",
    "\n",
    "enron_data = pickle.load(open(\"../final_project/final_project_dataset.pkl\", \"r\"))\n"
   ]
  },
  {
   "cell_type": "code",
   "execution_count": 6,
   "metadata": {
    "collapsed": false
   },
   "outputs": [
    {
     "name": "stdout",
     "output_type": "stream",
     "text": [
      "146\n"
     ]
    }
   ],
   "source": [
    "print len(enron_data)\n"
   ]
  },
  {
   "cell_type": "markdown",
   "metadata": {},
   "source": [
    "### For each person, how many features are available?"
   ]
  },
  {
   "cell_type": "code",
   "execution_count": 12,
   "metadata": {
    "collapsed": false
   },
   "outputs": [
    {
     "name": "stdout",
     "output_type": "stream",
     "text": [
      "{'salary': 1111258, 'to_messages': 3627, 'deferral_payments': 'NaN', 'total_payments': 8682716, 'exercised_stock_options': 19250000, 'bonus': 5600000, 'restricted_stock': 6843672, 'shared_receipt_with_poi': 2042, 'restricted_stock_deferred': 'NaN', 'total_stock_value': 26093672, 'expenses': 29336, 'loan_advances': 'NaN', 'from_messages': 108, 'other': 22122, 'from_this_person_to_poi': 30, 'poi': True, 'director_fees': 'NaN', 'deferred_income': 'NaN', 'long_term_incentive': 1920000, 'email_address': 'jeff.skilling@enron.com', 'from_poi_to_this_person': 88}\n",
      "21\n"
     ]
    }
   ],
   "source": [
    "print enron_data[\"SKILLING JEFFREY K\"]\n",
    "print len(enron_data[\"SKILLING JEFFREY K\"])"
   ]
  },
  {
   "cell_type": "markdown",
   "metadata": {},
   "source": [
    "###' The “poi” feature records whether the person is a person of interest, according to our definition. ** How many POIs are there in the E+F dataset?**"
   ]
  },
  {
   "cell_type": "code",
   "execution_count": 19,
   "metadata": {
    "collapsed": false
   },
   "outputs": [
    {
     "name": "stdout",
     "output_type": "stream",
     "text": [
      "Number of Points of Interests is: 18\n"
     ]
    }
   ],
   "source": [
    "poi_cnt = 0\n",
    "for each in enron_data.keys():\n",
    "    if enron_data[each][\"poi\"] == True:\n",
    "        poi_cnt +=1\n",
    "print \"Number of Points of Interests is:\", poi_cnt"
   ]
  },
  {
   "cell_type": "markdown",
   "metadata": {},
   "source": [
    "### We compiled a list of all POI names *(in ../final_project/poi_names.txt)* and associated email addresses *(in ../final_project/poi_email_addresses.py).*\n",
    "\n",
    "###How many POI’s were there total? (Use the names file, not the email addresses, since many folks have more than one address and a few didn’t work for Enron, so we don’t have their emails.)\n"
   ]
  },
  {
   "cell_type": "code",
   "execution_count": 31,
   "metadata": {
    "collapsed": false
   },
   "outputs": [
    {
     "name": "stdout",
     "output_type": "stream",
     "text": [
      "(y) Lay, Kenneth\n",
      "\n",
      "(y) Skilling, Jeffrey\n",
      "\n",
      "(n) Howard, Kevin\n",
      "\n",
      "(n) Krautz, Michael\n",
      "\n",
      "(n) Yeager, Scott\n",
      "\n",
      "(n) Hirko, Joseph\n",
      "\n",
      "(n) Shelby, Rex\n",
      "\n",
      "(n) Bermingham, David\n",
      "\n",
      "(n) Darby, Giles\n",
      "\n",
      "(n) Mulgrew, Gary\n",
      "\n",
      "(n) Bayley, Daniel\n",
      "\n",
      "(n) Brown, James\n",
      "\n",
      "(n) Furst, Robert\n",
      "\n",
      "(n) Fuhs, William\n",
      "\n",
      "(n) Causey, Richard\n",
      "\n",
      "(n) Calger, Christopher\n",
      "\n",
      "(n) DeSpain, Timothy\n",
      "\n",
      "(n) Hannon, Kevin\n",
      "\n",
      "(n) Koenig, Mark\n",
      "\n",
      "(y) Forney, John\n",
      "\n",
      "(n) Rice, Kenneth\n",
      "\n",
      "(n) Rieker, Paula\n",
      "\n",
      "(n) Fastow, Lea\n",
      "\n",
      "(n) Fastow, Andrew\n",
      "\n",
      "(y) Delainey, David\n",
      "\n",
      "(n) Glisan, Ben\n",
      "\n",
      "(n) Richter, Jeffrey\n",
      "\n",
      "(n) Lawyer, Larry\n",
      "\n",
      "(n) Belden, Timothy\n",
      "\n",
      "(n) Kopper, Michael\n",
      "\n",
      "(n) Duncan, David\n",
      "\n",
      "(n) Bowen, Raymond\n",
      "\n",
      "(n) Colwell, Wesley\n",
      "\n",
      "(n) Boyle, Dan\n",
      "\n",
      "(n) Loehr, Christopher\n",
      "\n",
      "There are 35 POI in total\n"
     ]
    }
   ],
   "source": [
    "poi_names = '../final_project/poi_names.txt'\n",
    "\n",
    "f = open(poi_names,\"r\")\n",
    "\n",
    "cnt = 0\n",
    "for line in f:\n",
    "    if \"(y)\" in line or \"(n)\" in line: \n",
    "        print line\n",
    "        cnt +=1\n",
    "print \"There are\", cnt, \"POI in total\"\n",
    "f.close()"
   ]
  },
  {
   "cell_type": "markdown",
   "metadata": {},
   "source": [
    "### As you can see, we have many of the POIs in our E+F dataset, but not all of them. ** Why is that a potential problem?**\n",
    "\n",
    "### We will return to this later to explain how a POI could end up not being in the Enron E+F dataset, so you fully understand the issue before moving on.\n"
   ]
  },
  {
   "cell_type": "markdown",
   "metadata": {},
   "source": [
    "`There are a few things you could say here, but our main thought is about having enough data to really learn the patterns. In general, more data is always better--only having 18 data points doesn't give you that many examples to learn from.`"
   ]
  },
  {
   "cell_type": "markdown",
   "metadata": {},
   "source": [
    "###Like any dict of dicts, individual people/features can be accessed like so:\n",
    "\n",
    "`enron_data[\"LASTNAME FIRSTNAME\"][\"feature_name\"]`\n",
    "or, sometimes\n",
    "`enron_data[\"LASTNAME FIRSTNAME MIDDLEINITIAL\"][\"feature_name\"]`\n",
    "\n",
    "###What is the total value of the stock belonging to James Prentice?"
   ]
  },
  {
   "cell_type": "code",
   "execution_count": 34,
   "metadata": {
    "collapsed": false
   },
   "outputs": [
    {
     "data": {
      "text/plain": [
       "1095040"
      ]
     },
     "execution_count": 34,
     "metadata": {},
     "output_type": "execute_result"
    }
   ],
   "source": [
    "enron_data[\"PRENTICE JAMES\"]['total_stock_value']"
   ]
  },
  {
   "cell_type": "markdown",
   "metadata": {},
   "source": [
    "### How many email messages do we have from Wesley Colwell to persons of interest?"
   ]
  },
  {
   "cell_type": "code",
   "execution_count": 36,
   "metadata": {
    "collapsed": false
   },
   "outputs": [
    {
     "data": {
      "text/plain": [
       "11"
      ]
     },
     "execution_count": 36,
     "metadata": {},
     "output_type": "execute_result"
    }
   ],
   "source": [
    "enron_data['COLWELL WESLEY']['from_this_person_to_poi']"
   ]
  },
  {
   "cell_type": "markdown",
   "metadata": {},
   "source": [
    "### What’s the value of stock options exercised by Jeffrey Skilling? "
   ]
  },
  {
   "cell_type": "code",
   "execution_count": 41,
   "metadata": {
    "collapsed": false
   },
   "outputs": [
    {
     "data": {
      "text/plain": [
       "19250000"
      ]
     },
     "execution_count": 41,
     "metadata": {},
     "output_type": "execute_result"
    }
   ],
   "source": [
    "enron_data[\"SKILLING JEFFREY K\"]['exercised_stock_options']"
   ]
  },
  {
   "cell_type": "markdown",
   "metadata": {},
   "source": [
    "In the coming lessons, we’ll talk about how the best features are often motivated by our human understanding of the problem at hand. In this case, that means knowing a little about the story of the Enron fraud.\n",
    "\n",
    "If you have an hour and a half to spare, ** *“Enron: The Smartest Guys in the Room”* ** is a documentary that gives an amazing overview of the story. Alternatively, there are plenty of archival newspaper stories that chronicle the rise and fall of Enron.\n",
    "\n",
    "** Which of these schemes was Enron not involved in?** \n",
    "\n",
    "\n",
    "selling assets to shell companies at the end of each month, and buying them back at the beginning of the next month to hide accounting losses\n",
    "causing electrical grid failures in California\n",
    "illegally obtained a government report that enabled them to corner the market on frozen concentrated orange juice futures\n",
    "conspiring to give a Saudi prince expedited American citizenship\n",
    "a plan in collaboration with Blockbuster movies to stream movies over the internet"
   ]
  },
  {
   "cell_type": "markdown",
   "metadata": {},
   "source": [
    "### Who was the CEO of Enron during most of the time that fraud was being perpetrated?"
   ]
  },
  {
   "cell_type": "code",
   "execution_count": 43,
   "metadata": {
    "collapsed": false
   },
   "outputs": [
    {
     "data": {
      "text/plain": [
       "{'bonus': 5600000,\n",
       " 'deferral_payments': 'NaN',\n",
       " 'deferred_income': 'NaN',\n",
       " 'director_fees': 'NaN',\n",
       " 'email_address': 'jeff.skilling@enron.com',\n",
       " 'exercised_stock_options': 19250000,\n",
       " 'expenses': 29336,\n",
       " 'from_messages': 108,\n",
       " 'from_poi_to_this_person': 88,\n",
       " 'from_this_person_to_poi': 30,\n",
       " 'loan_advances': 'NaN',\n",
       " 'long_term_incentive': 1920000,\n",
       " 'other': 22122,\n",
       " 'poi': True,\n",
       " 'restricted_stock': 6843672,\n",
       " 'restricted_stock_deferred': 'NaN',\n",
       " 'salary': 1111258,\n",
       " 'shared_receipt_with_poi': 2042,\n",
       " 'to_messages': 3627,\n",
       " 'total_payments': 8682716,\n",
       " 'total_stock_value': 26093672}"
      ]
     },
     "execution_count": 43,
     "metadata": {},
     "output_type": "execute_result"
    }
   ],
   "source": [
    "enron_data[\"SKILLING JEFFREY K\"]"
   ]
  },
  {
   "cell_type": "markdown",
   "metadata": {},
   "source": [
    "### Who was chairman of the Enron board of directors?"
   ]
  },
  {
   "cell_type": "code",
   "execution_count": 57,
   "metadata": {
    "collapsed": false
   },
   "outputs": [
    {
     "data": {
      "text/plain": [
       "{'bonus': 7000000,\n",
       " 'deferral_payments': 202911,\n",
       " 'deferred_income': -300000,\n",
       " 'director_fees': 'NaN',\n",
       " 'email_address': 'kenneth.lay@enron.com',\n",
       " 'exercised_stock_options': 34348384,\n",
       " 'expenses': 99832,\n",
       " 'from_messages': 36,\n",
       " 'from_poi_to_this_person': 123,\n",
       " 'from_this_person_to_poi': 16,\n",
       " 'loan_advances': 81525000,\n",
       " 'long_term_incentive': 3600000,\n",
       " 'other': 10359729,\n",
       " 'poi': True,\n",
       " 'restricted_stock': 14761694,\n",
       " 'restricted_stock_deferred': 'NaN',\n",
       " 'salary': 1072321,\n",
       " 'shared_receipt_with_poi': 2411,\n",
       " 'to_messages': 4273,\n",
       " 'total_payments': 103559793,\n",
       " 'total_stock_value': 49110078}"
      ]
     },
     "execution_count": 57,
     "metadata": {},
     "output_type": "execute_result"
    }
   ],
   "source": [
    "enron_data['LAY KENNETH L']"
   ]
  },
  {
   "cell_type": "markdown",
   "metadata": {},
   "source": [
    "### Who was CFO (chief financial officer) of Enron during most of the time that fraud was going on?"
   ]
  },
  {
   "cell_type": "code",
   "execution_count": 47,
   "metadata": {
    "collapsed": false
   },
   "outputs": [
    {
     "data": {
      "text/plain": [
       "{'bonus': 1300000,\n",
       " 'deferral_payments': 'NaN',\n",
       " 'deferred_income': -1386055,\n",
       " 'director_fees': 'NaN',\n",
       " 'email_address': 'andrew.fastow@enron.com',\n",
       " 'exercised_stock_options': 'NaN',\n",
       " 'expenses': 55921,\n",
       " 'from_messages': 'NaN',\n",
       " 'from_poi_to_this_person': 'NaN',\n",
       " 'from_this_person_to_poi': 'NaN',\n",
       " 'loan_advances': 'NaN',\n",
       " 'long_term_incentive': 1736055,\n",
       " 'other': 277464,\n",
       " 'poi': True,\n",
       " 'restricted_stock': 1794412,\n",
       " 'restricted_stock_deferred': 'NaN',\n",
       " 'salary': 440698,\n",
       " 'shared_receipt_with_poi': 'NaN',\n",
       " 'to_messages': 'NaN',\n",
       " 'total_payments': 2424083,\n",
       " 'total_stock_value': 1794412}"
      ]
     },
     "execution_count": 47,
     "metadata": {},
     "output_type": "execute_result"
    }
   ],
   "source": [
    "enron_data['FASTOW ANDREW S']"
   ]
  },
  {
   "cell_type": "markdown",
   "metadata": {},
   "source": [
    "###  Of these three individuals (Lay, Skilling and Fastow), who took home the most money (largest value of “total_payments” feature)?\n",
    "\n",
    "**How much money did that person get?**\n"
   ]
  },
  {
   "cell_type": "code",
   "execution_count": 59,
   "metadata": {
    "collapsed": false
   },
   "outputs": [
    {
     "name": "stdout",
     "output_type": "stream",
     "text": [
      "Andrew Fastow took: 2424083 US$\n",
      "Jeff Skilling took: 8682716 US$\n",
      "Kenneth Lay (BASTARD) took: 103559793 US$\n"
     ]
    }
   ],
   "source": [
    "print \"Andrew Fastow took:\", enron_data['FASTOW ANDREW S']['total_payments'], \"US$\"\n",
    "print \"Jeff Skilling took:\", enron_data[\"SKILLING JEFFREY K\"]['total_payments'], \"US$\"\n",
    "print \"Kenneth Lay (BASTARD) took:\", enron_data['LAY KENNETH L']['total_payments'], \"US$\"\n"
   ]
  },
  {
   "cell_type": "markdown",
   "metadata": {},
   "source": [
    "### For nearly every person in the dataset, not every feature has a value. How is it denoted when a feature doesn’t have a well-defined value?\n"
   ]
  },
  {
   "cell_type": "markdown",
   "metadata": {},
   "source": [
    "NaN"
   ]
  },
  {
   "cell_type": "markdown",
   "metadata": {},
   "source": [
    "### How many folks in this dataset have a quantified salary? What about a known email address? "
   ]
  },
  {
   "cell_type": "code",
   "execution_count": 70,
   "metadata": {
    "collapsed": false
   },
   "outputs": [
    {
     "name": "stdout",
     "output_type": "stream",
     "text": [
      "95 people have quantified salary\n",
      "111 people have normal email address\n"
     ]
    }
   ],
   "source": [
    "cnt=0\n",
    "for each in enron_data.keys():\n",
    "    if enron_data[each][\"salary\"] != 'NaN':\n",
    "        cnt +=1\n",
    "print cnt, \"people have quantified salary\"\n",
    "\n",
    "cnt=0\n",
    "for each in enron_data.keys():\n",
    "    if enron_data[each][\"email_address\"] != 'NaN':\n",
    "        cnt +=1\n",
    "print cnt, \"people have normal email address\"\n"
   ]
  },
  {
   "cell_type": "markdown",
   "metadata": {},
   "source": [
    "\n",
    "\n",
    "\n",
    "\n",
    "A python dictionary can’t be read directly into an sklearn classification or regression algorithm; instead, it needs a numpy array or a list of lists (each element of the list (itself a list) is a data point, and the elements of the smaller list are the features of that point).\n",
    "\n",
    "We’ve written some helper functions **`(featureFormat()`** and **`targetFeatureSplit()`** in **tools/feature_format.py)** that can take a list of feature names and the data dictionary, and return a numpy array.\n",
    "\n",
    "In the case when a feature does not have a value for a particular person, this function will also replace the feature value with 0 (zero).\n",
    "\n",
    "\n",
    "\n",
    "As you saw a little while ago, not every POI has an entry in the dataset (e.g. Michael Krautz). That’s because the dataset was created using the financial data you can find in final_project/enron61702insiderpay.pdf, which is missing some POI’s (those absences propagated through to the final dataset). On the other hand, for many of these “missing” POI’s, we do have emails.\n",
    "\n",
    "While it would be straightforward to add these POI’s and their email information to the E+F dataset, and just put “NaN” for their financial information, this could introduce a subtle problem. You will walk through that here.\n",
    "\n",
    "***How many people in the E+F dataset (as it currently exists) have “NaN” for their total payments? What percentage of people in the dataset as a whole is this?***\n",
    "\n",
    "\n",
    "\n"
   ]
  },
  {
   "cell_type": "code",
   "execution_count": 74,
   "metadata": {
    "collapsed": false
   },
   "outputs": [
    {
     "name": "stdout",
     "output_type": "stream",
     "text": [
      "21 people has NaN in their total payments\n",
      "The ratio of NaN is: 14.3835616438 %\n"
     ]
    }
   ],
   "source": [
    "cnt = 0\n",
    "for each in enron_data.keys():\n",
    "    if enron_data[each]['total_payments'] == 'NaN':\n",
    "        cnt += 1\n",
    "print cnt, \"people has NaN in their total payments\"\n",
    "print \"The ratio of NaN is:\", float(cnt)*100/len(enron_data.keys()), \"%\""
   ]
  },
  {
   "cell_type": "markdown",
   "metadata": {},
   "source": [
    "### How many POIs in the E+F dataset have “NaN” for their total payments? What percentage of POI’s as a whole is this? "
   ]
  },
  {
   "cell_type": "code",
   "execution_count": 76,
   "metadata": {
    "collapsed": false
   },
   "outputs": [
    {
     "name": "stdout",
     "output_type": "stream",
     "text": [
      "There are 18 POIs\n",
      "0 POI has NaN in their total payments\n",
      "The ratio of NaN among POI is: 0.0 %\n"
     ]
    }
   ],
   "source": [
    "cnt_poi=0\n",
    "cnt_payments =0\n",
    "\n",
    "for each in enron_data.keys():\n",
    "    if enron_data[each]['poi'] == True:\n",
    "        cnt_poi +=1\n",
    "        if enron_data[each][\"total_payments\"] == 'NaN':\n",
    "            cnt_payments += 1\n",
    "\n",
    "print \"There are\", cnt_poi, \"POIs\"\n",
    "print cnt_payments, \"POI has NaN in their total payments\"\n",
    "print \"The ratio of NaN among POI is:\", float(cnt_payments)*100/cnt_poi, \"%\"    "
   ]
  },
  {
   "cell_type": "markdown",
   "metadata": {},
   "source": [
    "### If a machine learning algorithm were to use total_payments as a feature, would you expect it to associate a “NaN” value with POIs or non-POIs?"
   ]
  },
  {
   "cell_type": "code",
   "execution_count": 77,
   "metadata": {
    "collapsed": true
   },
   "outputs": [],
   "source": [
    "#Non-POIs"
   ]
  },
  {
   "cell_type": "markdown",
   "metadata": {},
   "source": [
    "### If you added in, say, 10 more data points which were all POI’s, and put “NaN” for the total payments for those folks, the numbers you just calculated would change.\n",
    "\n",
    "\n",
    "### What is the new number of people of the dataset? What is the new number of folks with “NaN” for total payments?"
   ]
  },
  {
   "cell_type": "code",
   "execution_count": 80,
   "metadata": {
    "collapsed": false
   },
   "outputs": [
    {
     "name": "stdout",
     "output_type": "stream",
     "text": [
      "156\n",
      "19.8717948718 %\n"
     ]
    }
   ],
   "source": [
    "print 156\n",
    "print 31.0*100 /156, \"%\""
   ]
  },
  {
   "cell_type": "markdown",
   "metadata": {},
   "source": [
    "###  What is the new number of POI’s in the dataset? What percentage of them have “NaN” for their total stock value?\n"
   ]
  },
  {
   "cell_type": "code",
   "execution_count": 82,
   "metadata": {
    "collapsed": false
   },
   "outputs": [
    {
     "name": "stdout",
     "output_type": "stream",
     "text": [
      "28\n",
      "35.7142857143 %\n"
     ]
    }
   ],
   "source": [
    "print 28\n",
    "print 10.0*100/28, '%'"
   ]
  },
  {
   "cell_type": "markdown",
   "metadata": {},
   "source": [
    "### Once the new data points are added, do you think a supervised classification algorithm might interpret “NaN” for total stock value as a clue that someone is a POI?"
   ]
  },
  {
   "cell_type": "code",
   "execution_count": 83,
   "metadata": {
    "collapsed": true
   },
   "outputs": [],
   "source": [
    "# Yes of course"
   ]
  },
  {
   "cell_type": "markdown",
   "metadata": {},
   "source": [
    "Adding in the new POI’s in this example, none of whom we have financial information for, has introduced a subtle problem, that our lack of financial information about them can be picked up by an algorithm as a clue that they’re POIs. Another way to think about this is that there’s now a difference in how we generated the data for our two classes--non-POIs all come from the financial spreadsheet, while many POIs get added in by hand afterwards. That difference can trick us into thinking we have better performance than we do--suppose you use your POI detector to decide whether a new, unseen person is a POI, and that person isn’t on the spreadsheet. Then all their financial data would contain “NaN” but the person is very likely not a POI (there are many more non-POIs than POIs in the world, and even at Enron)--you’d be likely to accidentally identify them as a POI, though!\n",
    "\n",
    "This goes to say that, when generating or augmenting a dataset, you should be exceptionally careful if your data are coming from different sources for different classes. It can easily lead to the type of bias or mistake that we showed here. There are ways to deal with this, for example, you wouldn’t have to worry about this problem if you used only email data--in that case, discrepancies in the financial data wouldn’t matter because financial features aren’t being used. There are also more sophisticated ways of estimating how much of an effect these biases can have on your final answer; those are beyond the scope of this course.\n",
    "\n",
    "For now, the takeaway message is to be very careful about introducing features that come from different sources depending on the class! It’s a classic way to accidentally introduce biases and mistakes.\n"
   ]
  }
 ],
 "metadata": {
  "kernelspec": {
   "display_name": "Python 2",
   "language": "python",
   "name": "python2"
  },
  "language_info": {
   "codemirror_mode": {
    "name": "ipython",
    "version": 2
   },
   "file_extension": ".py",
   "mimetype": "text/x-python",
   "name": "python",
   "nbconvert_exporter": "python",
   "pygments_lexer": "ipython2",
   "version": "2.7.10"
  }
 },
 "nbformat": 4,
 "nbformat_minor": 0
}
